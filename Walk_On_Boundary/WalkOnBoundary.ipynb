{
  "nbformat": 4,
  "nbformat_minor": 0,
  "metadata": {
    "colab": {
      "name": "WalkOnBoundary.ipynb",
      "provenance": [],
      "authorship_tag": "ABX9TyMaGcPNkBxEzxmpE3pGgAmG",
      "include_colab_link": true
    },
    "kernelspec": {
      "name": "python3",
      "display_name": "Python 3"
    },
    "language_info": {
      "name": "python"
    }
  },
  "cells": [
    {
      "cell_type": "markdown",
      "metadata": {
        "id": "view-in-github",
        "colab_type": "text"
      },
      "source": [
        "<a href=\"https://colab.research.google.com/github/Cubostar/0h_n0_SMTSolver/blob/main/Walk_On_Boundary/WalkOnBoundary.ipynb\" target=\"_parent\"><img src=\"https://colab.research.google.com/assets/colab-badge.svg\" alt=\"Open In Colab\"/></a>"
      ]
    },
    {
      "cell_type": "code",
      "execution_count": 1,
      "metadata": {
        "id": "5zoCL7guIfDb"
      },
      "outputs": [],
      "source": [
        "import jax\n",
        "from jax import lax\n",
        "from jax import random\n",
        "\n",
        "import jax.numpy as jnp\n",
        "import numpy as np\n",
        "\n",
        "import time\n",
        "\n",
        "import matplotlib.pyplot as plt\n",
        "from mpl_toolkits.mplot3d import axes3d\n",
        "\n",
        "from functools import partial"
      ]
    },
    {
      "cell_type": "code",
      "source": [
        "def unit_circle_boundary(x, y):\n",
        "  return 1 - jnp.sqrt(jnp.power(x, 2) + jnp.power(y, 2))"
      ],
      "metadata": {
        "id": "ZLd9MKm0LrEO"
      },
      "execution_count": 2,
      "outputs": []
    },
    {
      "cell_type": "code",
      "source": [
        "def wobstep(cur, theta, g, boundary):\n",
        "  return"
      ],
      "metadata": {
        "id": "I0Gw_9wjBhXG"
      },
      "execution_count": 3,
      "outputs": []
    },
    {
      "cell_type": "code",
      "source": [
        "def initial_point(x_0, y_0, angle, boundary, tolerance):\n",
        "  x = x_0\n",
        "  y = y_0\n",
        "  error = boundary(x, y)\n",
        "  while error > tolerance:\n",
        "    x = x + error * jnp.cos(angle)\n",
        "    y = y + error * jnp.sin(angle)\n",
        "    error = boundary(x, y)\n",
        "  return x, y"
      ],
      "metadata": {
        "id": "fwoTCQflXdzf"
      },
      "execution_count": 4,
      "outputs": []
    },
    {
      "cell_type": "code",
      "source": [
        "def next_point(x, y, angle, boundary, tolerance):\n",
        "  x_next = x\n",
        "  y_next = y\n",
        "  error = "
      ],
      "metadata": {
        "id": "KEf4CMwNtDNs"
      },
      "execution_count": null,
      "outputs": []
    },
    {
      "cell_type": "code",
      "source": [
        "def wob(g, boundary, x, y, batches, t, tolerance, key):\n",
        "  # generate keys\n",
        "  keys = random.split(key, 2)\n",
        "\n",
        "  # compute angles\n",
        "  angles = random.uniform(keys[0], shape=(t, batches)) * 2 * jnp.pi\n",
        "\n",
        "  # get initial point on boundary\n",
        "  x_0, y_0 = initial_point(x, y, jnp.pi / 2, boundary, tolerance)\n",
        "\n",
        "  # run markov chain\n",
        "  print(x_0)\n",
        "  print(y_0)\n",
        "  \n",
        "\n",
        "  return angles"
      ],
      "metadata": {
        "id": "7bZqC1SpI3CL"
      },
      "execution_count": 8,
      "outputs": []
    },
    {
      "cell_type": "code",
      "source": [
        "g = jnp.sin\n",
        "boundary = unit_circle_boundary\n",
        "x = 0\n",
        "y = 0.5\n",
        "batches = 1\n",
        "t = 4\n",
        "tolerance = 0.001\n",
        "key = random.PRNGKey(int(time.time()))\n",
        "\n",
        "ans = wob(g, boundary, x, y, batches, t, tolerance, key)"
      ],
      "metadata": {
        "colab": {
          "base_uri": "https://localhost:8080/"
        },
        "id": "QwSKx7xFL9AG",
        "outputId": "3326be8c-131b-4567-e4af-374a4d6e742b"
      },
      "execution_count": 9,
      "outputs": [
        {
          "output_type": "stream",
          "name": "stdout",
          "text": [
            "-2.1855694e-08\n",
            "1.0\n"
          ]
        }
      ]
    }
  ]
}